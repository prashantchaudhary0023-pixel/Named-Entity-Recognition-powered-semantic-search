{
 "cells": [
  {
   "cell_type": "markdown",
   "id": "ea5b1b6a-22db-4573-afb7-63bc0f36e9ab",
   "metadata": {},
   "source": [
    "# setup pinecone"
   ]
  },
  {
   "cell_type": "code",
   "execution_count": 1,
   "id": "a5ab1b5a-4fc9-48a0-8fbb-cc4d422dd64e",
   "metadata": {},
   "outputs": [],
   "source": [
    " MY_KEY= \"Your_pinecone_key\""
   ]
  },
  {
   "cell_type": "code",
   "execution_count": 4,
   "id": "c71e3a05-9e33-4084-943f-5f8980a75523",
   "metadata": {},
   "outputs": [],
   "source": [
    "# initiate pinecone\n",
    "\n",
    "from pinecone import Pinecone, ServerlessSpec\n",
    "# API_KEY = \"YOUR API KEY\"\n",
    "pc = Pinecone(api_key = MY_KEY)\n",
    "\n",
    "# create an index\n",
    "pc.create_index(\"medium-data\", dimension=768, metric='cosine',\n",
    "                    spec=ServerlessSpec(cloud=\"aws\", region=\"us-east-1\"))\n",
    "\n",
    "index = pc.Index(\"medium-data\")"
   ]
  },
  {
   "cell_type": "code",
   "execution_count": 5,
   "id": "21465ced-98b4-4eaf-add5-2cb6bd22ef16",
   "metadata": {},
   "outputs": [],
   "source": [
    "# load libraries for NER \n",
    "\n",
    "from transformers import AutoTokenizer, AutoModelForTokenClassification\n",
    "from transformers import pipeline\n",
    "import torch\n"
   ]
  },
  {
   "cell_type": "code",
   "execution_count": 6,
   "id": "4145ad18-72cc-4ded-b53a-30d385e55868",
   "metadata": {},
   "outputs": [
    {
     "name": "stderr",
     "output_type": "stream",
     "text": [
      "Some weights of the model checkpoint at dslim/bert-base-NER were not used when initializing BertForTokenClassification: ['bert.pooler.dense.bias', 'bert.pooler.dense.weight']\n",
      "- This IS expected if you are initializing BertForTokenClassification from the checkpoint of a model trained on another task or with another architecture (e.g. initializing a BertForSequenceClassification model from a BertForPreTraining model).\n",
      "- This IS NOT expected if you are initializing BertForTokenClassification from the checkpoint of a model that you expect to be exactly identical (initializing a BertForSequenceClassification model from a BertForSequenceClassification model).\n",
      "Device set to use cpu\n"
     ]
    },
    {
     "data": {
      "text/plain": [
       "[{'entity_group': 'PER',\n",
       "  'score': 0.9997382,\n",
       "  'word': 'Bill Gates',\n",
       "  'start': 0,\n",
       "  'end': 10},\n",
       " {'entity_group': 'ORG',\n",
       "  'score': 0.99829453,\n",
       "  'word': 'Microsoft',\n",
       "  'start': 29,\n",
       "  'end': 38}]"
      ]
     },
     "execution_count": 6,
     "metadata": {},
     "output_type": "execute_result"
    }
   ],
   "source": [
    "# init NER engine\n",
    "\n",
    "model_id = 'dslim/bert-base-NER'\n",
    "\n",
    "tokenizer = AutoTokenizer.from_pretrained(model_id)\n",
    "model = AutoModelForTokenClassification.from_pretrained(model_id)\n",
    "\n",
    "# nlp pipeline\n",
    "\n",
    "nlp = pipeline('ner',\n",
    "              model=model,\n",
    "              tokenizer=tokenizer,\n",
    "              aggregation_strategy= 'max',\n",
    "              device= 'cpu') \n",
    "nlp(\"Bill Gates is the founder of Microsoft\")"
   ]
  },
  {
   "cell_type": "code",
   "execution_count": 7,
   "id": "f814de4a-c67d-434b-84a0-028fee352d90",
   "metadata": {},
   "outputs": [],
   "source": [
    "# load libraries for retriever\n",
    "\n",
    "from sentence_transformers import SentenceTransformer\n",
    "\n",
    "\n",
    "# https://huggingface.co/flax-sentence-embeddings/all_datasets_v3_mpnet-base\n",
    "retriever = SentenceTransformer(\n",
    "    \"flax-sentence-embeddings/all_datasets_v3_mpnet-base\")"
   ]
  },
  {
   "cell_type": "code",
   "execution_count": 8,
   "id": "ab74b89e-771a-48eb-bcfb-433b9a9300a2",
   "metadata": {},
   "outputs": [
    {
     "data": {
      "text/plain": [
       "SentenceTransformer(\n",
       "  (0): Transformer({'max_seq_length': 128, 'do_lower_case': False, 'architecture': 'MPNetModel'})\n",
       "  (1): Pooling({'word_embedding_dimension': 768, 'pooling_mode_cls_token': False, 'pooling_mode_mean_tokens': True, 'pooling_mode_max_tokens': False, 'pooling_mode_mean_sqrt_len_tokens': False, 'pooling_mode_weightedmean_tokens': False, 'pooling_mode_lasttoken': False, 'include_prompt': True})\n",
       "  (2): Normalize()\n",
       ")"
      ]
     },
     "execution_count": 8,
     "metadata": {},
     "output_type": "execute_result"
    }
   ],
   "source": [
    "retriever"
   ]
  },
  {
   "cell_type": "code",
   "execution_count": 9,
   "id": "263b0c2e-b083-43b3-9467-5645e63b35b8",
   "metadata": {},
   "outputs": [],
   "source": [
    "# Obtain Raw Data\n",
    "from datasets import load_dataset\n",
    "import pandas as pd\n",
    "\n",
    "\n",
    "df = load_dataset(\n",
    "    \"fabiochiu/medium-articles\",\n",
    "    data_files=\"medium_articles.csv\",\n",
    "    split=\"train\"\n",
    ").to_pandas() \n",
    "# convert data to pandas framework"
   ]
  },
  {
   "cell_type": "code",
   "execution_count": 11,
   "id": "893bcd58-65e2-43fe-82f8-5f4d5ff731ee",
   "metadata": {},
   "outputs": [
    {
     "data": {
      "text/plain": [
       "(192368, 6)"
      ]
     },
     "execution_count": 11,
     "metadata": {},
     "output_type": "execute_result"
    }
   ],
   "source": [
    "df.shape"
   ]
  },
  {
   "cell_type": "code",
   "execution_count": null,
   "id": "3690fce8-49f8-42ca-8b34-d0ce2780610b",
   "metadata": {},
   "outputs": [],
   "source": [
    "# take a sample of 10000\n",
    "# random_state used so that df remains the same\n",
    "df = df.dropna().sample(10000, random_state=45) # might take 30mins to 1hr"
   ]
  },
  {
   "cell_type": "code",
   "execution_count": 86,
   "id": "50c97ed9-3142-46a7-b013-c03ed2022c90",
   "metadata": {},
   "outputs": [],
   "source": [
    "# create a column 'text_extended' combining title n text \n",
    "df['text_extended'] = df['title'] + '.' + df['text'].str[:1000]"
   ]
  },
  {
   "cell_type": "code",
   "execution_count": 62,
   "id": "8b9fa927-f7a2-4249-98f1-4203dae083fc",
   "metadata": {},
   "outputs": [],
   "source": [
    "# helper function for extracting entities of a batch of texts\n",
    "\n",
    "def extract_entities(list_of_text):\n",
    "    entities = []\n",
    "    for doc in list_of_text: \n",
    "        entities.append([item['word'] for item in nlp(doc)])\n",
    "        # list of entities for 1 doc\n",
    "    return entities"
   ]
  },
  {
   "cell_type": "code",
   "execution_count": 107,
   "id": "025dae57-86b4-4fd5-9e1a-944f5b39f27b",
   "metadata": {},
   "outputs": [],
   "source": [
    "# upsert data to pinecone\n",
    "\n",
    "from tqdm.auto import tqdm\n",
    "\n",
    "batch_size = 64\n",
    "\n",
    "for i in range(0, len(df), batch_size):\n",
    "    i_end = min(i+batch_size, len(df))\n",
    "    # print(i, i_end) # starting and ending index of each batch\n",
    "    \n",
    "    # get a batch of data\n",
    "    df_batch = df.iloc[i: i_end].copy()\n",
    "    \n",
    "    # embedding\n",
    "    emb = retriever.encode(df_batch['text_extended'].tolist()\n",
    "                          #).tolist() # array to python list\n",
    "    \n",
    "    # ner extraction\n",
    "    entities = extract_entities(df_batch['text_extended'].tolist())\n",
    "    \n",
    "    # [[]] --> [set1, set2, ], remove duplicate entities    \n",
    "    df_batch['named_entity'] = [list(set(entity)) for entity in entities] # one list per document\n",
    "    \n",
    "    # create meta data\n",
    "    df_batch = df_batch.drop('text', axis=1)\n",
    "    \n",
    "    meta_data = df_batch.to_dict(orient='records') # pd.df to dictionary\n",
    "    \n",
    "    # create ids\n",
    "    \n",
    "    ids = [f\"{idx}\" for idx in range(i, i_end)] #\n",
    "    \n",
    "    # upsert\n",
    "    \n",
    "    vectors_to_upsert = list(zip(ids, emb, meta_data))  # nd array to python list\n",
    "    \n",
    "    _ = index.upsert(vectors= vectors_to_upsert)  \n",
    "    \n",
    "    \n",
    "\n"
   ]
  },
  {
   "cell_type": "code",
   "execution_count": 108,
   "id": "2338135f-729b-4ae3-8664-6e13f3e0cae4",
   "metadata": {},
   "outputs": [
    {
     "data": {
      "text/plain": [
       "{'dimension': 768,\n",
       " 'index_fullness': 0.0,\n",
       " 'metric': 'cosine',\n",
       " 'namespaces': {'': {'vector_count': 2512}},\n",
       " 'total_vector_count': 2512,\n",
       " 'vector_type': 'dense'}"
      ]
     },
     "execution_count": 108,
     "metadata": {},
     "output_type": "execute_result"
    }
   ],
   "source": [
    "index.describe_index_stats()"
   ]
  },
  {
   "cell_type": "code",
   "execution_count": 117,
   "id": "c4be39ef-ec1d-46c4-a278-5aad9f6f6ce9",
   "metadata": {},
   "outputs": [],
   "source": [
    "query = \"How to make a Wordpress website?\"  # Natural Language\n",
    "\n",
    "emb_qx = retriever.encode(query).tolist() # embedded query vector\n",
    "\n",
    "ne = extract_entities([query])[0] # Named entity as a search filter"
   ]
  },
  {
   "cell_type": "code",
   "execution_count": 118,
   "id": "19a5f07b-0972-4280-b111-d0214386b89a",
   "metadata": {},
   "outputs": [],
   "source": [
    "# query from index\n",
    "xc1 = index.query(vector=emb_qx, top_k= 5, include_metadata=True,\n",
    "           filter = {\"named_entity\": {\"$in\" : ne}})"
   ]
  },
  {
   "cell_type": "code",
   "execution_count": 119,
   "id": "6675f188-8740-4e6c-a30a-2e6b463a5f38",
   "metadata": {},
   "outputs": [
    {
     "data": {
      "text/plain": [
       "{'matches': [], 'namespace': '', 'usage': {'read_units': 1}}"
      ]
     },
     "execution_count": 119,
     "metadata": {},
     "output_type": "execute_result"
    }
   ],
   "source": [
    "xc1"
   ]
  },
  {
   "cell_type": "code",
   "execution_count": 112,
   "id": "8bb36f29-2752-4a5f-84ed-295fd9ea86df",
   "metadata": {},
   "outputs": [],
   "source": [
    "# you might not find any match if you are only upserting 1k data because of insufficient data there might not be good match, \n",
    "# try to load more data or tweak query based on data (glance over pinecone console and look for text_extended field in your vectors)\n",
    "for result in xc['matches']:\n",
    "    print(result['score'], \" \", result['metadata']['named_entity'])"
   ]
  },
  {
   "cell_type": "code",
   "execution_count": 137,
   "id": "77f5264c-1cc2-4e26-bd03-9199bf39a7ea",
   "metadata": {},
   "outputs": [],
   "source": [
    "query = \"wordpress\"  # Natural Language\n",
    "\n",
    "emb_qx = retriever.encode(query).tolist() # embedded query vector\n",
    "\n",
    "ne = extract_entities([query])[0] # Named entity as a search filter\n",
    "\n",
    "xc2 = index.query(vector=emb_qx, top_k= 5, include_metadata=True)\n",
    "           "
   ]
  },
  {
   "cell_type": "code",
   "execution_count": 141,
   "id": "98aa4f30-b843-4572-8057-f875c5543b13",
   "metadata": {},
   "outputs": [
    {
     "name": "stdout",
     "output_type": "stream",
     "text": [
      "0.140793815   {'authors': \"['Jairam R Prabhu']\", 'tags': \"['Blogging', 'Médium', 'Journal', '2020', 'Writing']\", 'timestamp': '2020-12-28 14:50:28.741000+00:00', 'title': 'Why 2020 was the best year for blogging?', 'url': 'https://medium.com/illumination/why-2020-was-the-best-year-for-blogging-c34a6d7ddcc8'}\n",
      "0.140793815   {'authors': \"['Bank Al Etihad']\", 'tags': \"['Lifestyle', 'Smart Banking', 'Banking Technology', 'Mobile Apps', 'Bank Al Etihad']\", 'timestamp': '2020-12-07 12:24:14.705000+00:00', 'title': '5 smart ways to bank with your banking app', 'url': 'https://medium.com/bank-al-etihad/5-smart-ways-to-bank-with-your-banking-app-bff1bc409e4a'}\n",
      "0.140793815   {'authors': \"['Audrey Malone']\", 'tags': \"['Health', 'Healthy Lifestyle', 'Wellness', 'Exercise', 'Fitness']\", 'timestamp': '2021-02-28 21:51:31+00:00', 'title': 'What I Learned While Laying on My Kitchen Floor Unable to Move', 'url': 'https://medium.com/in-fitness-and-in-health/what-i-learned-while-laying-on-my-kitchen-floor-unable-to-move-f8a0d900f84b'}\n",
      "0.140793815   {'authors': \"['Cristovao Cordeiro']\", 'tags': \"['Big Data', 'Edge Computing', 'Cloud Computing', 'Computer Science', 'IoT']\", 'timestamp': '2020-12-25 09:24:25.595000+00:00', 'title': 'What is Edge Computing? And Why Does it Matter?', 'url': 'https://faun.pub/what-is-edge-computing-and-why-does-it-matter-8cd4ce73770f'}\n",
      "0.140793815   {'authors': \"['Camila Mendonça De Freitas']\", 'tags': \"['STEM', 'Girls', 'Feminismo', 'Feminism']\", 'timestamp': '2020-12-23 01:50:29.177000+00:00', 'title': 'MULHERES NA FÓRMULA 1: Conquistas e lutas', 'url': 'https://medium.com/@camilamfreitass/mulheres-na-f%C3%B3rmula-1-conquistas-e-lutas-1f55db9a8914'}\n"
     ]
    }
   ],
   "source": [
    "for result in xc2['matches']:\n",
    "    print(result['score'], \" \", result['metadata'])"
   ]
  },
  {
   "cell_type": "code",
   "execution_count": 139,
   "id": "7cf0294a-2b29-448f-936f-13e7e203da5e",
   "metadata": {},
   "outputs": [
    {
     "data": {
      "text/plain": [
       "{'matches': [{'id': '7616',\n",
       "              'metadata': {'authors': \"['Jairam R Prabhu']\",\n",
       "                           'tags': \"['Blogging', 'Médium', 'Journal', '2020', \"\n",
       "                                   \"'Writing']\",\n",
       "                           'timestamp': '2020-12-28 14:50:28.741000+00:00',\n",
       "                           'title': 'Why 2020 was the best year for blogging?',\n",
       "                           'url': 'https://medium.com/illumination/why-2020-was-the-best-year-for-blogging-c34a6d7ddcc8'},\n",
       "              'score': 0.140793815,\n",
       "              'values': []},\n",
       "             {'id': '7680',\n",
       "              'metadata': {'authors': \"['Bank Al Etihad']\",\n",
       "                           'tags': \"['Lifestyle', 'Smart Banking', 'Banking \"\n",
       "                                   \"Technology', 'Mobile Apps', 'Bank Al \"\n",
       "                                   \"Etihad']\",\n",
       "                           'timestamp': '2020-12-07 12:24:14.705000+00:00',\n",
       "                           'title': '5 smart ways to bank with your banking '\n",
       "                                    'app',\n",
       "                           'url': 'https://medium.com/bank-al-etihad/5-smart-ways-to-bank-with-your-banking-app-bff1bc409e4a'},\n",
       "              'score': 0.140793815,\n",
       "              'values': []},\n",
       "             {'id': '7744',\n",
       "              'metadata': {'authors': \"['Audrey Malone']\",\n",
       "                           'tags': \"['Health', 'Healthy Lifestyle', \"\n",
       "                                   \"'Wellness', 'Exercise', 'Fitness']\",\n",
       "                           'timestamp': '2021-02-28 21:51:31+00:00',\n",
       "                           'title': 'What I Learned While Laying on My Kitchen '\n",
       "                                    'Floor Unable to Move',\n",
       "                           'url': 'https://medium.com/in-fitness-and-in-health/what-i-learned-while-laying-on-my-kitchen-floor-unable-to-move-f8a0d900f84b'},\n",
       "              'score': 0.140793815,\n",
       "              'values': []},\n",
       "             {'id': '7808',\n",
       "              'metadata': {'authors': \"['Cristovao Cordeiro']\",\n",
       "                           'tags': \"['Big Data', 'Edge Computing', 'Cloud \"\n",
       "                                   \"Computing', 'Computer Science', 'IoT']\",\n",
       "                           'timestamp': '2020-12-25 09:24:25.595000+00:00',\n",
       "                           'title': 'What is Edge Computing? And Why Does it '\n",
       "                                    'Matter?',\n",
       "                           'url': 'https://faun.pub/what-is-edge-computing-and-why-does-it-matter-8cd4ce73770f'},\n",
       "              'score': 0.140793815,\n",
       "              'values': []},\n",
       "             {'id': '7552',\n",
       "              'metadata': {'authors': \"['Camila Mendonça De Freitas']\",\n",
       "                           'tags': \"['STEM', 'Girls', 'Feminismo', 'Feminism']\",\n",
       "                           'timestamp': '2020-12-23 01:50:29.177000+00:00',\n",
       "                           'title': 'MULHERES NA FÓRMULA 1: Conquistas e lutas',\n",
       "                           'url': 'https://medium.com/@camilamfreitass/mulheres-na-f%C3%B3rmula-1-conquistas-e-lutas-1f55db9a8914'},\n",
       "              'score': 0.140793815,\n",
       "              'values': []}],\n",
       " 'namespace': '',\n",
       " 'usage': {'read_units': 1}}"
      ]
     },
     "execution_count": 139,
     "metadata": {},
     "output_type": "execute_result"
    }
   ],
   "source": [
    "xc2"
   ]
  },
  {
   "cell_type": "code",
   "execution_count": null,
   "id": "13c86dd3-34d3-4514-8f08-072da6ab93ba",
   "metadata": {},
   "outputs": [],
   "source": []
  }
 ],
 "metadata": {
  "kernelspec": {
   "display_name": "Python [conda env:base] *",
   "language": "python",
   "name": "conda-base-py"
  },
  "language_info": {
   "codemirror_mode": {
    "name": "ipython",
    "version": 3
   },
   "file_extension": ".py",
   "mimetype": "text/x-python",
   "name": "python",
   "nbconvert_exporter": "python",
   "pygments_lexer": "ipython3",
   "version": "3.12.7"
  }
 },
 "nbformat": 4,
 "nbformat_minor": 5
}
