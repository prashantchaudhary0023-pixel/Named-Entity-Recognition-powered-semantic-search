{
 "cells": [
  {
   "cell_type": "markdown",
   "id": "7e66f3c1-931b-485a-99df-0f3a83d2fb4b",
   "metadata": {},
   "source": [
    "# NAMED ENTITY RECOGNITION"
   ]
  },
  {
   "cell_type": "code",
   "execution_count": 1,
   "id": "bb38ad6d-7858-424f-895c-6c5c1a75f2e1",
   "metadata": {},
   "outputs": [],
   "source": [
    "# imports\n",
    "\n",
    "from transformers import AutoTokenizer, AutoModelForTokenClassification\n",
    "from transformers import pipeline\n",
    "\n",
    "import torch"
   ]
  },
  {
   "cell_type": "code",
   "execution_count": 2,
   "id": "36080217-4f1d-4fb1-b1a0-785186fbf79e",
   "metadata": {},
   "outputs": [],
   "source": [
    "# initiate a model_id\n",
    "# hugging face\n",
    "model_id=\"dslim/bert-base-NER\" "
   ]
  },
  {
   "cell_type": "code",
   "execution_count": 3,
   "id": "612d46a3-4746-4a95-b8d1-4debc2bca0dd",
   "metadata": {},
   "outputs": [],
   "source": [
    "# initiate tokenizer for tokenization of text\n",
    "tokenizer_ner = AutoTokenizer.from_pretrained(model_id) # hugging face model"
   ]
  },
  {
   "cell_type": "code",
   "execution_count": 4,
   "id": "349a4adf-afa7-4e2f-bf59-e48e6bd643c2",
   "metadata": {},
   "outputs": [
    {
     "name": "stderr",
     "output_type": "stream",
     "text": [
      "Some weights of the model checkpoint at dslim/bert-base-NER were not used when initializing BertForTokenClassification: ['bert.pooler.dense.bias', 'bert.pooler.dense.weight']\n",
      "- This IS expected if you are initializing BertForTokenClassification from the checkpoint of a model trained on another task or with another architecture (e.g. initializing a BertForSequenceClassification model from a BertForPreTraining model).\n",
      "- This IS NOT expected if you are initializing BertForTokenClassification from the checkpoint of a model that you expect to be exactly identical (initializing a BertForSequenceClassification model from a BertForSequenceClassification model).\n"
     ]
    }
   ],
   "source": [
    "# initiate a named entity recognition model\n",
    "ner_model = AutoModelForTokenClassification.from_pretrained(model_id)"
   ]
  },
  {
   "cell_type": "code",
   "execution_count": 5,
   "id": "c2fca083-9c60-4233-8da0-bcfaf6b54f71",
   "metadata": {},
   "outputs": [],
   "source": [
    "# setup device\n",
    "device = torch.cuda.current_device() if torch.cuda.is_available() else 'cpu'"
   ]
  },
  {
   "cell_type": "code",
   "execution_count": 6,
   "id": "4f4fab16-4ef3-458b-920d-2fe3534a4eaf",
   "metadata": {},
   "outputs": [
    {
     "name": "stderr",
     "output_type": "stream",
     "text": [
      "Device set to use mps:0\n"
     ]
    }
   ],
   "source": [
    "#  create an nlp pipeline\n",
    "\n",
    "nlp = pipeline('ner',\n",
    "              model = ner_model,\n",
    "              tokenizer = tokenizer_ner,\n",
    "              aggregation_strategy = 'max',\n",
    "              device= None)"
   ]
  },
  {
   "cell_type": "code",
   "execution_count": 7,
   "id": "00a2df6c-8a3e-4c52-90cf-494a26858826",
   "metadata": {},
   "outputs": [
    {
     "data": {
      "text/plain": [
       "[{'entity_group': 'PER',\n",
       "  'score': 0.9993387,\n",
       "  'word': 'Prashant',\n",
       "  'start': 11,\n",
       "  'end': 19}]"
      ]
     },
     "execution_count": 7,
     "metadata": {},
     "output_type": "execute_result"
    }
   ],
   "source": [
    "nlp('My name is Prashant, I love AI')"
   ]
  },
  {
   "cell_type": "code",
   "execution_count": 8,
   "id": "aec7efa8-aacf-4704-9954-b568e3159fda",
   "metadata": {},
   "outputs": [],
   "source": [
    "text = \"“We formed our partnership with OpenAI around a shared ambition to \\\n",
    "responsibly advance cutting-edge AI research and democratize AI as a new \\\n",
    "technology platform,” said Satya Nadella, Chairman and CEO, Microsoft. \\\n",
    "“In this next phase of our partnership, developers and organizations across \\\n",
    "industries will have access to the best AI infrastructure, models, and toolchain \\\n",
    "with Azure to build and run their applications.”\""
   ]
  },
  {
   "cell_type": "code",
   "execution_count": 9,
   "id": "b29879d7-2206-4642-8f20-0ed3a2c69b54",
   "metadata": {},
   "outputs": [
    {
     "data": {
      "text/plain": [
       "[{'entity_group': 'ORG',\n",
       "  'score': 0.99865675,\n",
       "  'word': 'OpenAI',\n",
       "  'start': 32,\n",
       "  'end': 38},\n",
       " {'entity_group': 'MISC',\n",
       "  'score': 0.9881143,\n",
       "  'word': 'AI',\n",
       "  'start': 100,\n",
       "  'end': 102},\n",
       " {'entity_group': 'MISC',\n",
       "  'score': 0.9725788,\n",
       "  'word': 'AI',\n",
       "  'start': 128,\n",
       "  'end': 130},\n",
       " {'entity_group': 'PER',\n",
       "  'score': 0.99965036,\n",
       "  'word': 'Satya Nadella',\n",
       "  'start': 167,\n",
       "  'end': 180},\n",
       " {'entity_group': 'ORG',\n",
       "  'score': 0.9988427,\n",
       "  'word': 'Microsoft',\n",
       "  'start': 200,\n",
       "  'end': 209},\n",
       " {'entity_group': 'MISC',\n",
       "  'score': 0.9932892,\n",
       "  'word': 'AI',\n",
       "  'start': 327,\n",
       "  'end': 329},\n",
       " {'entity_group': 'ORG',\n",
       "  'score': 0.9938997,\n",
       "  'word': 'Azure',\n",
       "  'start': 373,\n",
       "  'end': 378}]"
      ]
     },
     "execution_count": 9,
     "metadata": {},
     "output_type": "execute_result"
    }
   ],
   "source": [
    "nlp(text)"
   ]
  },
  {
   "cell_type": "code",
   "execution_count": 10,
   "id": "ec39c8db-7e73-4d30-9185-d060bb64373b",
   "metadata": {},
   "outputs": [
    {
     "data": {
      "text/plain": [
       "'Azure'"
      ]
     },
     "execution_count": 10,
     "metadata": {},
     "output_type": "execute_result"
    }
   ],
   "source": [
    "# can search using word start and end\n",
    "text[373:378]"
   ]
  }
 ],
 "metadata": {
  "kernelspec": {
   "display_name": "Python [conda env:base] *",
   "language": "python",
   "name": "conda-base-py"
  },
  "language_info": {
   "codemirror_mode": {
    "name": "ipython",
    "version": 3
   },
   "file_extension": ".py",
   "mimetype": "text/x-python",
   "name": "python",
   "nbconvert_exporter": "python",
   "pygments_lexer": "ipython3",
   "version": "3.12.7"
  }
 },
 "nbformat": 4,
 "nbformat_minor": 5
}
